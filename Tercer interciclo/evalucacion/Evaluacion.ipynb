{
 "cells": [
  {
   "cell_type": "markdown",
   "metadata": {},
   "source": [
    "# Evaluación Final - Python para Ciencia de Datos\n",
    "\n",
    "**Nombre del Estudiante:** \n",
    "\n",
    "**Fecha:** 04/07/2025\n",
    "\n",
    "**Duración:** 2 horas\n",
    "\n",
    "---\n",
    "\n",
    "### **Instrucciones Generales**\n",
    "\n",
    "1.  **Lea atentamente** cada ejercicio antes de empezar a codificar.\n",
    "2.  Escriba su código únicamente en las celdas designadas con `# Tu código aquí`.\n",
    "3.  **Ejecute sus celdas** para asegurarse de que el código funciona y produce el resultado esperado.\n",
    "4.  Puede consultar la documentación oficial de Python, NumPy, Pandas y Matplotlib. No se permite el uso de foros (Stack Overflow) ni herramientas de IA.\n",
    "5.  Al finalizar, **guarde el notebook** y súbalo a la plataforma Moodle."
   ]
  },
  {
   "cell_type": "markdown",
   "metadata": {
    "jp-MarkdownHeadingCollapsed": true
   },
   "source": [
    "--- \n",
    "## Sección 1: Fundamentos de Python (Aprox. 45 minutos) 🐍"
   ]
  },
  {
   "cell_type": "markdown",
   "metadata": {},
   "source": [
    "### Ejercicio 1: Manipulación de Listas y Funciones\n",
    "\n",
    "Crea una función que reciba una lista de números. La función debe devolver un **diccionario** con las siguientes claves y valores:\n",
    "- `mayor`: El número más alto de la lista.\n",
    "- `menor`: El número más bajo de la lista.\n",
    "- `suma`: La suma de todos los números.\n",
    "- `promedio`: El promedio de los números.\n",
    "- `orden_desc`: La lista ordenada de forma descendente."
   ]
  },
  {
   "cell_type": "code",
   "execution_count": 1,
   "metadata": {},
   "outputs": [
    {
     "name": "stdout",
     "output_type": "stream",
     "text": [
      "{'mayor': 97, 'menor': 5, 'suma': 250, 'promedio': 35.714285714285715, 'orden_desc': [97, 60, 42, 23, 15, 8, 5]}\n"
     ]
    }
   ],
   "source": [
    "def analizar_numeros(lista_numeros):\n",
    "    mayor = max(lista_numeros)\n",
    "    menor = min(lista_numeros)\n",
    "    suma = sum(lista_numeros)\n",
    "    promedio = suma / len(lista_numeros)\n",
    "    orden_desc = sorted(lista_numeros, reverse=True)\n",
    "    \n",
    "    return {\n",
    "        'mayor': mayor,\n",
    "        'menor': menor,\n",
    "        'suma': suma,\n",
    "        'promedio': promedio,\n",
    "        'orden_desc': orden_desc\n",
    "    }\n",
    "\n",
    "# Código de prueba\n",
    "numeros = [15, 42, 8, 97, 23, 5, 60]\n",
    "resultado = analizar_numeros(numeros)\n",
    "print(resultado)\n"
   ]
  },
  {
   "cell_type": "markdown",
   "metadata": {},
   "source": [
    "### Ejercicio 2: Diccionarios y Lógica Condicional\n",
    "\n",
    "Dado el diccionario de calificaciones, escribe un script que itere sobre él y cree un nuevo diccionario llamado `estado_alumnos`. Este nuevo diccionario debe tener dos claves: `Aprobados` y `Reprobados`. Cada clave debe contener una lista de los nombres de los estudiantes que cumplen esa condición (nota >= 7 para aprobar)."
   ]
  },
  {
   "cell_type": "code",
   "execution_count": 2,
   "metadata": {},
   "outputs": [
    {
     "name": "stdout",
     "output_type": "stream",
     "text": [
      "{'Aprobados': ['Ana', 'Pedro', 'Julia'], 'Reprobados': ['Luis', 'Marta', 'Carlos']}\n"
     ]
    }
   ],
   "source": [
    "calificaciones = {\n",
    "    'Ana': 9,\n",
    "    'Luis': 6.5,\n",
    "    'Pedro': 8,\n",
    "    'Marta': 5,\n",
    "    'Julia': 10,\n",
    "    'Carlos': 4\n",
    "}\n",
    "\n",
    "estado_alumnos = {\n",
    "    'Aprobados': [],\n",
    "    'Reprobados': []\n",
    "}\n",
    "\n",
    "# Iterar sobre el diccionario de calificaciones\n",
    "for alumno, calificacion in calificaciones.items():\n",
    "    if calificacion >= 7:\n",
    "        estado_alumnos['Aprobados'].append(alumno)\n",
    "    else:\n",
    "        estado_alumnos['Reprobados'].append(alumno)\n",
    "\n",
    "print(estado_alumnos)\n"
   ]
  },
  {
   "cell_type": "markdown",
   "metadata": {},
   "source": [
    "--- \n",
    "## Sección 2: Análisis de Datos con NumPy (Aprox. 45 minutos) 🔢"
   ]
  },
  {
   "cell_type": "markdown",
   "metadata": {},
   "source": [
    "### Ejercicio 3: Creación y Operaciones con Arrays\n",
    "\n",
    "1.  Crea una matriz NumPy de 6x6 con números enteros aleatorios entre 1 y 50.\n",
    "2.  Calcula e imprime la suma de todos los elementos, el valor promedio de la matriz y la desviación estándar.\n",
    "3.  Extrae y muestra la tercera columna completa de la matriz (índice 2)."
   ]
  },
  {
   "cell_type": "code",
   "execution_count": 3,
   "metadata": {},
   "outputs": [
    {
     "name": "stdout",
     "output_type": "stream",
     "text": [
      "Matriz generada:\n",
      "[[26 43  5 43 24 30]\n",
      " [47 28  5 50  3  5]\n",
      " [16 42 39 11 35 36]\n",
      " [45 36 29 33 10 27]\n",
      " [ 3 46  4 22 50  8]\n",
      " [50 47 44 18 46 36]]\n",
      "\n",
      "Suma de todos los elementos: 1042\n",
      "Promedio de los elementos: 28.944444444444443\n",
      "Desviación estándar de los elementos: 15.898889626575333\n",
      "\n",
      "Tercera columna completa: [ 5  5 39 29  4 44]\n"
     ]
    }
   ],
   "source": [
    "import numpy as np\n",
    "\n",
    "# 1. Crear una matriz 6x6 con números enteros aleatorios entre 1 y 50\n",
    "matriz = np.random.randint(1, 51, size=(6, 6))\n",
    "\n",
    "# 2. Calcular la suma, el promedio y la desviación estándar\n",
    "suma = np.sum(matriz)\n",
    "promedio = np.mean(matriz)\n",
    "desviacion_estandar = np.std(matriz)\n",
    "\n",
    "# Mostrar los resultados\n",
    "print(f\"Matriz generada:\\n{matriz}\")\n",
    "print(f\"\\nSuma de todos los elementos: {suma}\")\n",
    "print(f\"Promedio de los elementos: {promedio}\")\n",
    "print(f\"Desviación estándar de los elementos: {desviacion_estandar}\")\n",
    "\n",
    "# 3. Extraer y mostrar la tercera columna (índice 2)\n",
    "tercera_columna = matriz[:, 2]\n",
    "print(f\"\\nTercera columna completa: {tercera_columna}\")\n",
    "\n"
   ]
  },
  {
   "cell_type": "markdown",
   "metadata": {},
   "source": [
    "--- \n",
    "## Sección 3: Manipulación de Datos con Pandas (Aprox. 1.5 horas) 🐼\n"
   ]
  },
  {
   "cell_type": "markdown",
   "metadata": {},
   "source": [
    "### Ejercicio 4: Carga y Limpieza de Datos\n",
    "\n",
    "1. Carga el archivo `ventas.csv` en un DataFrame de Pandas.\n",
    "2. Muestra las primeras 7 filas y un resumen estadístico (`.describe()`).\n",
    "3. Identifica y cuenta los valores nulos por columna.\n",
    "4. Rellena los valores nulos de la columna `Ventas` con el promedio de esa misma columna."
   ]
  },
  {
   "cell_type": "code",
   "execution_count": 3,
   "metadata": {},
   "outputs": [
    {
     "ename": "FileNotFoundError",
     "evalue": "[Errno 2] No such file or directory: 'ventas.csv'",
     "output_type": "error",
     "traceback": [
      "\u001b[1;31m---------------------------------------------------------------------------\u001b[0m",
      "\u001b[1;31mFileNotFoundError\u001b[0m                         Traceback (most recent call last)",
      "Cell \u001b[1;32mIn[3], line 4\u001b[0m\n\u001b[0;32m      1\u001b[0m \u001b[38;5;28;01mimport\u001b[39;00m\u001b[38;5;250m \u001b[39m\u001b[38;5;21;01mpandas\u001b[39;00m\u001b[38;5;250m \u001b[39m\u001b[38;5;28;01mas\u001b[39;00m\u001b[38;5;250m \u001b[39m\u001b[38;5;21;01mpd\u001b[39;00m\n\u001b[0;32m      3\u001b[0m \u001b[38;5;66;03m# Cargar el archivo CSV original\u001b[39;00m\n\u001b[1;32m----> 4\u001b[0m df \u001b[38;5;241m=\u001b[39m pd\u001b[38;5;241m.\u001b[39mread_csv(\u001b[38;5;124m'\u001b[39m\u001b[38;5;124mventas.csv\u001b[39m\u001b[38;5;124m'\u001b[39m)\n\u001b[0;32m      6\u001b[0m \u001b[38;5;66;03m# 1. Mostrar las primeras 7 filas\u001b[39;00m\n\u001b[0;32m      7\u001b[0m \u001b[38;5;28mprint\u001b[39m(\u001b[38;5;124m\"\u001b[39m\u001b[38;5;124mPrimeras 7 filas:\u001b[39m\u001b[38;5;124m\"\u001b[39m)\n",
      "File \u001b[1;32mc:\\ProgramData\\anaconda3\\Lib\\site-packages\\pandas\\io\\parsers\\readers.py:1026\u001b[0m, in \u001b[0;36mread_csv\u001b[1;34m(filepath_or_buffer, sep, delimiter, header, names, index_col, usecols, dtype, engine, converters, true_values, false_values, skipinitialspace, skiprows, skipfooter, nrows, na_values, keep_default_na, na_filter, verbose, skip_blank_lines, parse_dates, infer_datetime_format, keep_date_col, date_parser, date_format, dayfirst, cache_dates, iterator, chunksize, compression, thousands, decimal, lineterminator, quotechar, quoting, doublequote, escapechar, comment, encoding, encoding_errors, dialect, on_bad_lines, delim_whitespace, low_memory, memory_map, float_precision, storage_options, dtype_backend)\u001b[0m\n\u001b[0;32m   1013\u001b[0m kwds_defaults \u001b[38;5;241m=\u001b[39m _refine_defaults_read(\n\u001b[0;32m   1014\u001b[0m     dialect,\n\u001b[0;32m   1015\u001b[0m     delimiter,\n\u001b[1;32m   (...)\u001b[0m\n\u001b[0;32m   1022\u001b[0m     dtype_backend\u001b[38;5;241m=\u001b[39mdtype_backend,\n\u001b[0;32m   1023\u001b[0m )\n\u001b[0;32m   1024\u001b[0m kwds\u001b[38;5;241m.\u001b[39mupdate(kwds_defaults)\n\u001b[1;32m-> 1026\u001b[0m \u001b[38;5;28;01mreturn\u001b[39;00m _read(filepath_or_buffer, kwds)\n",
      "File \u001b[1;32mc:\\ProgramData\\anaconda3\\Lib\\site-packages\\pandas\\io\\parsers\\readers.py:620\u001b[0m, in \u001b[0;36m_read\u001b[1;34m(filepath_or_buffer, kwds)\u001b[0m\n\u001b[0;32m    617\u001b[0m _validate_names(kwds\u001b[38;5;241m.\u001b[39mget(\u001b[38;5;124m\"\u001b[39m\u001b[38;5;124mnames\u001b[39m\u001b[38;5;124m\"\u001b[39m, \u001b[38;5;28;01mNone\u001b[39;00m))\n\u001b[0;32m    619\u001b[0m \u001b[38;5;66;03m# Create the parser.\u001b[39;00m\n\u001b[1;32m--> 620\u001b[0m parser \u001b[38;5;241m=\u001b[39m TextFileReader(filepath_or_buffer, \u001b[38;5;241m*\u001b[39m\u001b[38;5;241m*\u001b[39mkwds)\n\u001b[0;32m    622\u001b[0m \u001b[38;5;28;01mif\u001b[39;00m chunksize \u001b[38;5;129;01mor\u001b[39;00m iterator:\n\u001b[0;32m    623\u001b[0m     \u001b[38;5;28;01mreturn\u001b[39;00m parser\n",
      "File \u001b[1;32mc:\\ProgramData\\anaconda3\\Lib\\site-packages\\pandas\\io\\parsers\\readers.py:1620\u001b[0m, in \u001b[0;36mTextFileReader.__init__\u001b[1;34m(self, f, engine, **kwds)\u001b[0m\n\u001b[0;32m   1617\u001b[0m     \u001b[38;5;28mself\u001b[39m\u001b[38;5;241m.\u001b[39moptions[\u001b[38;5;124m\"\u001b[39m\u001b[38;5;124mhas_index_names\u001b[39m\u001b[38;5;124m\"\u001b[39m] \u001b[38;5;241m=\u001b[39m kwds[\u001b[38;5;124m\"\u001b[39m\u001b[38;5;124mhas_index_names\u001b[39m\u001b[38;5;124m\"\u001b[39m]\n\u001b[0;32m   1619\u001b[0m \u001b[38;5;28mself\u001b[39m\u001b[38;5;241m.\u001b[39mhandles: IOHandles \u001b[38;5;241m|\u001b[39m \u001b[38;5;28;01mNone\u001b[39;00m \u001b[38;5;241m=\u001b[39m \u001b[38;5;28;01mNone\u001b[39;00m\n\u001b[1;32m-> 1620\u001b[0m \u001b[38;5;28mself\u001b[39m\u001b[38;5;241m.\u001b[39m_engine \u001b[38;5;241m=\u001b[39m \u001b[38;5;28mself\u001b[39m\u001b[38;5;241m.\u001b[39m_make_engine(f, \u001b[38;5;28mself\u001b[39m\u001b[38;5;241m.\u001b[39mengine)\n",
      "File \u001b[1;32mc:\\ProgramData\\anaconda3\\Lib\\site-packages\\pandas\\io\\parsers\\readers.py:1880\u001b[0m, in \u001b[0;36mTextFileReader._make_engine\u001b[1;34m(self, f, engine)\u001b[0m\n\u001b[0;32m   1878\u001b[0m     \u001b[38;5;28;01mif\u001b[39;00m \u001b[38;5;124m\"\u001b[39m\u001b[38;5;124mb\u001b[39m\u001b[38;5;124m\"\u001b[39m \u001b[38;5;129;01mnot\u001b[39;00m \u001b[38;5;129;01min\u001b[39;00m mode:\n\u001b[0;32m   1879\u001b[0m         mode \u001b[38;5;241m+\u001b[39m\u001b[38;5;241m=\u001b[39m \u001b[38;5;124m\"\u001b[39m\u001b[38;5;124mb\u001b[39m\u001b[38;5;124m\"\u001b[39m\n\u001b[1;32m-> 1880\u001b[0m \u001b[38;5;28mself\u001b[39m\u001b[38;5;241m.\u001b[39mhandles \u001b[38;5;241m=\u001b[39m get_handle(\n\u001b[0;32m   1881\u001b[0m     f,\n\u001b[0;32m   1882\u001b[0m     mode,\n\u001b[0;32m   1883\u001b[0m     encoding\u001b[38;5;241m=\u001b[39m\u001b[38;5;28mself\u001b[39m\u001b[38;5;241m.\u001b[39moptions\u001b[38;5;241m.\u001b[39mget(\u001b[38;5;124m\"\u001b[39m\u001b[38;5;124mencoding\u001b[39m\u001b[38;5;124m\"\u001b[39m, \u001b[38;5;28;01mNone\u001b[39;00m),\n\u001b[0;32m   1884\u001b[0m     compression\u001b[38;5;241m=\u001b[39m\u001b[38;5;28mself\u001b[39m\u001b[38;5;241m.\u001b[39moptions\u001b[38;5;241m.\u001b[39mget(\u001b[38;5;124m\"\u001b[39m\u001b[38;5;124mcompression\u001b[39m\u001b[38;5;124m\"\u001b[39m, \u001b[38;5;28;01mNone\u001b[39;00m),\n\u001b[0;32m   1885\u001b[0m     memory_map\u001b[38;5;241m=\u001b[39m\u001b[38;5;28mself\u001b[39m\u001b[38;5;241m.\u001b[39moptions\u001b[38;5;241m.\u001b[39mget(\u001b[38;5;124m\"\u001b[39m\u001b[38;5;124mmemory_map\u001b[39m\u001b[38;5;124m\"\u001b[39m, \u001b[38;5;28;01mFalse\u001b[39;00m),\n\u001b[0;32m   1886\u001b[0m     is_text\u001b[38;5;241m=\u001b[39mis_text,\n\u001b[0;32m   1887\u001b[0m     errors\u001b[38;5;241m=\u001b[39m\u001b[38;5;28mself\u001b[39m\u001b[38;5;241m.\u001b[39moptions\u001b[38;5;241m.\u001b[39mget(\u001b[38;5;124m\"\u001b[39m\u001b[38;5;124mencoding_errors\u001b[39m\u001b[38;5;124m\"\u001b[39m, \u001b[38;5;124m\"\u001b[39m\u001b[38;5;124mstrict\u001b[39m\u001b[38;5;124m\"\u001b[39m),\n\u001b[0;32m   1888\u001b[0m     storage_options\u001b[38;5;241m=\u001b[39m\u001b[38;5;28mself\u001b[39m\u001b[38;5;241m.\u001b[39moptions\u001b[38;5;241m.\u001b[39mget(\u001b[38;5;124m\"\u001b[39m\u001b[38;5;124mstorage_options\u001b[39m\u001b[38;5;124m\"\u001b[39m, \u001b[38;5;28;01mNone\u001b[39;00m),\n\u001b[0;32m   1889\u001b[0m )\n\u001b[0;32m   1890\u001b[0m \u001b[38;5;28;01massert\u001b[39;00m \u001b[38;5;28mself\u001b[39m\u001b[38;5;241m.\u001b[39mhandles \u001b[38;5;129;01mis\u001b[39;00m \u001b[38;5;129;01mnot\u001b[39;00m \u001b[38;5;28;01mNone\u001b[39;00m\n\u001b[0;32m   1891\u001b[0m f \u001b[38;5;241m=\u001b[39m \u001b[38;5;28mself\u001b[39m\u001b[38;5;241m.\u001b[39mhandles\u001b[38;5;241m.\u001b[39mhandle\n",
      "File \u001b[1;32mc:\\ProgramData\\anaconda3\\Lib\\site-packages\\pandas\\io\\common.py:873\u001b[0m, in \u001b[0;36mget_handle\u001b[1;34m(path_or_buf, mode, encoding, compression, memory_map, is_text, errors, storage_options)\u001b[0m\n\u001b[0;32m    868\u001b[0m \u001b[38;5;28;01melif\u001b[39;00m \u001b[38;5;28misinstance\u001b[39m(handle, \u001b[38;5;28mstr\u001b[39m):\n\u001b[0;32m    869\u001b[0m     \u001b[38;5;66;03m# Check whether the filename is to be opened in binary mode.\u001b[39;00m\n\u001b[0;32m    870\u001b[0m     \u001b[38;5;66;03m# Binary mode does not support 'encoding' and 'newline'.\u001b[39;00m\n\u001b[0;32m    871\u001b[0m     \u001b[38;5;28;01mif\u001b[39;00m ioargs\u001b[38;5;241m.\u001b[39mencoding \u001b[38;5;129;01mand\u001b[39;00m \u001b[38;5;124m\"\u001b[39m\u001b[38;5;124mb\u001b[39m\u001b[38;5;124m\"\u001b[39m \u001b[38;5;129;01mnot\u001b[39;00m \u001b[38;5;129;01min\u001b[39;00m ioargs\u001b[38;5;241m.\u001b[39mmode:\n\u001b[0;32m    872\u001b[0m         \u001b[38;5;66;03m# Encoding\u001b[39;00m\n\u001b[1;32m--> 873\u001b[0m         handle \u001b[38;5;241m=\u001b[39m \u001b[38;5;28mopen\u001b[39m(\n\u001b[0;32m    874\u001b[0m             handle,\n\u001b[0;32m    875\u001b[0m             ioargs\u001b[38;5;241m.\u001b[39mmode,\n\u001b[0;32m    876\u001b[0m             encoding\u001b[38;5;241m=\u001b[39mioargs\u001b[38;5;241m.\u001b[39mencoding,\n\u001b[0;32m    877\u001b[0m             errors\u001b[38;5;241m=\u001b[39merrors,\n\u001b[0;32m    878\u001b[0m             newline\u001b[38;5;241m=\u001b[39m\u001b[38;5;124m\"\u001b[39m\u001b[38;5;124m\"\u001b[39m,\n\u001b[0;32m    879\u001b[0m         )\n\u001b[0;32m    880\u001b[0m     \u001b[38;5;28;01melse\u001b[39;00m:\n\u001b[0;32m    881\u001b[0m         \u001b[38;5;66;03m# Binary mode\u001b[39;00m\n\u001b[0;32m    882\u001b[0m         handle \u001b[38;5;241m=\u001b[39m \u001b[38;5;28mopen\u001b[39m(handle, ioargs\u001b[38;5;241m.\u001b[39mmode)\n",
      "\u001b[1;31mFileNotFoundError\u001b[0m: [Errno 2] No such file or directory: 'ventas.csv'"
     ]
    }
   ],
   "source": [
    "import pandas as pd\n",
    "\n",
    "# Cargar el archivo CSV original\n",
    "df = pd.read_csv('ventas.csv')\n",
    "\n",
    "# 1. Mostrar las primeras 7 filas\n",
    "print(\"Primeras 7 filas:\")\n",
    "print(df.head(7))\n",
    "\n",
    "# 2. Mostrar resumen estadístico\n",
    "print(\"\\nResumen estadístico:\")\n",
    "print(df.describe())\n",
    "\n",
    "# 3. Identificar y contar valores nulos\n",
    "print(\"\\nValores nulos por columna:\")\n",
    "print(df.isnull().sum())\n",
    "\n",
    "# 4. Rellenar valores nulos en Ventas con el promedio\n",
    "ventas_promedio = df['Ventas'].mean()\n",
    "df['Ventas'] = df['Ventas'].fillna(ventas_promedio)\n",
    "\n",
    "print(\"\\nDataFrame después de limpieza:\")\n",
    "print(df)\n",
    "\n",
    "# Opcional: Guardar el dataframe limpio\n",
    "df.to_csv('ventas_procesado.csv', index=False)"
   ]
  },
  {
   "cell_type": "markdown",
   "metadata": {},
   "source": [
    "### Ejercicio 5: Filtrado y Agrupación de Datos\n",
    "\n",
    "Usando el DataFrame del ejercicio anterior:\n",
    "1. Filtra y muestra todas las ventas realizadas en la ciudad de \"Quito\".\n",
    "2. Calcula el total de ventas (`Ventas`) por cada `Producto`.\n",
    "3. Agrupa los datos por `Ciudad` y `Producto` y calcula el promedio de `Ventas`."
   ]
  },
  {
   "cell_type": "code",
   "execution_count": null,
   "metadata": {},
   "outputs": [],
   "source": [
    "# 1. Filtrar ventas en Quito\n",
    "# Tu código aquí\n",
    "\n",
    "\n",
    "# 2. Calcular total de ventas por producto\n",
    "# Tu código aquí\n",
    "\n",
    "\n",
    "# 3. Agrupar por ciudad y producto\n",
    "# Tu código aquí\n"
   ]
  },
  {
   "cell_type": "markdown",
   "metadata": {},
   "source": [
    "### Ejercicio 6: Creación de Nuevas Columnas\n",
    "\n",
    "1. Crea una nueva columna llamada `Ganancia` que sea la resta de `Ventas` - `Costo`.\n",
    "2. Encuentra y muestra la fila completa de la venta que generó la **mayor ganancia**."
   ]
  },
  {
   "cell_type": "code",
   "execution_count": null,
   "metadata": {},
   "outputs": [],
   "source": [
    "# 1. Crear la columna Ganancia\n",
    "# Tu código aquí\n",
    "\n",
    "\n",
    "# 2. Encontrar la mayor ganancia\n",
    "# Tu código aquí\n"
   ]
  },
  {
   "cell_type": "markdown",
   "metadata": {},
   "source": [
    "--- \n",
    "## Sección 4: Visualización de Datos con Matplotlib (Aprox. 1 hora) 📊"
   ]
  },
  {
   "cell_type": "markdown",
   "metadata": {},
   "source": [
    "### Ejercicio 7: Gráfico de Barras\n",
    "\n",
    "Crea un gráfico de barras que muestre el total de ventas (`Ventas`) por `Ciudad`. \n",
    "Asegúrate de que el gráfico tenga:\n",
    "- Un título: \"Total de Ventas por Ciudad\".\n",
    "- Una etiqueta para el eje X: \"Ciudad\".\n",
    "- Una etiqueta para el eje Y: \"Total Ventas\"."
   ]
  },
  {
   "cell_type": "code",
   "execution_count": null,
   "metadata": {},
   "outputs": [],
   "source": [
    "import matplotlib.pyplot as plt\n",
    "\n",
    "# Primero, calcula los datos a graficar (total de ventas por ciudad)\n",
    "# Tu código aquí\n",
    "ventas_por_ciudad = None\n",
    "\n",
    "# Ahora, crea el gráfico de barras\n",
    "# Tu código aquí\n",
    "\n",
    "plt.show()"
   ]
  },
  {
   "cell_type": "markdown",
   "metadata": {},
   "source": [
    "### Ejercicio 8: Gráfico de Líneas\n",
    "\n",
    "1. Convierte la columna `Fecha` del DataFrame a formato `datetime`.\n",
    "2. Ordena el DataFrame por fecha de más antigua a más reciente.\n",
    "3. Crea un gráfico de líneas que muestre la evolución de las `Ventas` a lo largo del tiempo. \n",
    "4. Personaliza el gráfico con un título, etiquetas para los ejes y marcadores en cada punto de datos."
   ]
  },
  {
   "cell_type": "code",
   "execution_count": null,
   "metadata": {},
   "outputs": [],
   "source": [
    "# 1. Convertir columna a datetime\n",
    "# Tu código aquí\n",
    "\n",
    "\n",
    "# 2. Ordenar DataFrame por fecha\n",
    "# Tu código aquí\n",
    "\n",
    "\n",
    "# 3. Crear el gráfico de líneas\n",
    "# Tu código aquí\n",
    "\n",
    "\n",
    "plt.show()"
   ]
  }
 ],
 "metadata": {
  "kernelspec": {
   "display_name": "base",
   "language": "python",
   "name": "python3"
  },
  "language_info": {
   "codemirror_mode": {
    "name": "ipython",
    "version": 3
   },
   "file_extension": ".py",
   "mimetype": "text/x-python",
   "name": "python",
   "nbconvert_exporter": "python",
   "pygments_lexer": "ipython3",
   "version": "3.13.5"
  }
 },
 "nbformat": 4,
 "nbformat_minor": 4
}
