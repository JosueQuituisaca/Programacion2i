{
 "cells": [
  {
   "cell_type": "markdown",
   "id": "9faf318e",
   "metadata": {},
   "source": [
    "# Actividades 30 Minutos\n",
    "\n",
    "Ejercicios adicionales basados en el dataset Iris usando NumPy, Pandas y Matplotlib.\n"
   ]
  },
  {
   "cell_type": "code",
   "execution_count": 32,
   "id": "c0d615f9",
   "metadata": {},
   "outputs": [],
   "source": [
    "import pandas as pd\n",
    "\n",
    "# Cargar el archivo Excel desde la misma carpeta\n",
    "file_path = 'Libro1.xlsx'\n",
    "\n",
    "# Cargar el archivo Excel\n",
    "df = pd.read_excel(file_path, sheet_name='Hoja1')\n",
    "\n",
    "# Filtrar los datos para los clientes específicos mencionados\n",
    "clientes_ids = [201006654366, 200000396834, 200000399374, 200000521415, 200000561577]\n",
    "df_clientes = df[df['Codigo del Cliente'].isin(clientes_ids)]\n",
    "\n",
    "# Definir las columnas de consumo para cada año\n",
    "cols_2023 = [\n",
    "    'feb 02- ene 01 (kWh/mes)', 'mar 03 - feb 02 (Kwh/mes)', 'abril 04 - mar 03 (kwh/mes)',\n",
    "    'may 05 - abril 04 (kwh/mes)', 'jun 06 - may 05(kwh/mes)', 'juli 07 - jun 06(kwh/mes)',\n",
    "    'agos 08 - juli 07(kwh/mes)', 'sep 09 - agos 08(kwh/mes)', 'oct 10 - sep 09(kwh/mes)',\n",
    "    'nov 11 - oct 10(kwh/mes)', 'dic 12 - nov 11(kwh/mes)'\n",
    "]\n",
    "cols_2024 = [\n",
    "    'feb 02- ene 01(kwh/mes)', 'mar 03 - feb 02(kwh/mes)', 'abril 04 - mar 03(Kwh/mes)',\n",
    "    'may 05 - abril 04 (kwh/mes).1', 'jun 06 - may 05(kwh/mes).1', 'juli 07 - jun 06(kwh/mes).1',\n",
    "    'agos 08 - juli 07(kwh/mes).1', 'sep 09 - agos 08(kwh/mes).1', 'oct 10 - sep 09(kwh/mes).1',\n",
    "    'nov 11 - oct 10(kwh/mes).1', 'dic 12 - nov 11(kwh/mes).1'\n",
    "]\n",
    "cols_2025 = [\n",
    "    ' feb 02- ene 01(kwh/mes)', 'mar 03 - feb 02(kwh/mes).1', ' abril 04 - mar 03(kwh/mes)',\n",
    "    'may 05 - abril 04 (kwh/mes).2'\n",
    "]\n",
    "\n",
    "# Calcular el promedio anual para cada año\n",
    "df_clientes_anos = pd.DataFrame({\n",
    "    'Codigo del Cliente': df_clientes['Codigo del Cliente'],\n",
    "    'AÑO 2023': df_clientes[cols_2023].mean(axis=1),\n",
    "    'AÑO 2024': df_clientes[cols_2024].mean(axis=1),\n",
    "    'AÑO 2025': df_clientes[cols_2025].mean(axis=1)\n",
    "})\n"
   ]
  }
 ],
 "metadata": {
  "kernelspec": {
   "display_name": "venv",
   "language": "python",
   "name": "python3"
  },
  "language_info": {
   "codemirror_mode": {
    "name": "ipython",
    "version": 3
   },
   "file_extension": ".py",
   "mimetype": "text/x-python",
   "name": "python",
   "nbconvert_exporter": "python",
   "pygments_lexer": "ipython3",
   "version": "3.13.5"
  }
 },
 "nbformat": 4,
 "nbformat_minor": 5
}
