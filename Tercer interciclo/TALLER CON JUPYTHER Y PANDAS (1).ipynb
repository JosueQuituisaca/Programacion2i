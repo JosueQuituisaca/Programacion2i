{
 "cells": [
  {
   "cell_type": "markdown",
   "id": "084ccdc9-e6ae-4e4e-8d39-eba5ebf9f85e",
   "metadata": {},
   "source": [
    "Taller de Pandas: Análisis de Datos de Ventas\n",
    "\n",
    "Objetivos\n",
    "- Explorar y limpiar datos con Pandas.\n",
    "- Realizar análisis exploratorio de datos.\n",
    "- Visualizar patrones y tendencias.\n",
    "- Resolver desafíos en equipo.\n",
    "Los Datos fueron cambiados y se iniciaron con su respectiva codificaion con la guia del ejemplo del taller respectivo "
   ]
  },
  {
   "cell_type": "code",
   "execution_count": 20,
   "id": "175b1a11-c2b2-47ea-a0cb-f80649b2f166",
   "metadata": {},
   "outputs": [
    {
     "data": {
      "text/html": [
       "<div>\n",
       "<style scoped>\n",
       "    .dataframe tbody tr th:only-of-type {\n",
       "        vertical-align: middle;\n",
       "    }\n",
       "\n",
       "    .dataframe tbody tr th {\n",
       "        vertical-align: top;\n",
       "    }\n",
       "\n",
       "    .dataframe thead th {\n",
       "        text-align: right;\n",
       "    }\n",
       "</style>\n",
       "<table border=\"1\" class=\"dataframe\">\n",
       "  <thead>\n",
       "    <tr style=\"text-align: right;\">\n",
       "      <th></th>\n",
       "      <th>Fecha</th>\n",
       "      <th>Producto</th>\n",
       "      <th>Categoría</th>\n",
       "      <th>Región</th>\n",
       "      <th>Cliente</th>\n",
       "      <th>Cantidad</th>\n",
       "      <th>Precio Unitario</th>\n",
       "      <th>Total Venta</th>\n",
       "    </tr>\n",
       "  </thead>\n",
       "  <tbody>\n",
       "    <tr>\n",
       "      <th>0</th>\n",
       "      <td>2024-06-19</td>\n",
       "      <td>Aire Acondicionado</td>\n",
       "      <td>Electrodomésticos</td>\n",
       "      <td>Costa</td>\n",
       "      <td>Josue_I</td>\n",
       "      <td>3</td>\n",
       "      <td>746</td>\n",
       "      <td>2238</td>\n",
       "    </tr>\n",
       "    <tr>\n",
       "      <th>1</th>\n",
       "      <td>2024-02-15</td>\n",
       "      <td>Refrigeradora</td>\n",
       "      <td>Electrodomésticos</td>\n",
       "      <td>Costa</td>\n",
       "      <td>Josue_I</td>\n",
       "      <td>4</td>\n",
       "      <td>945</td>\n",
       "      <td>3780</td>\n",
       "    </tr>\n",
       "    <tr>\n",
       "      <th>2</th>\n",
       "      <td>2024-07-30</td>\n",
       "      <td>Aire Acondicionado</td>\n",
       "      <td>Electrodomésticos</td>\n",
       "      <td>Sierra</td>\n",
       "      <td>Josue_G</td>\n",
       "      <td>1</td>\n",
       "      <td>202</td>\n",
       "      <td>202</td>\n",
       "    </tr>\n",
       "    <tr>\n",
       "      <th>3</th>\n",
       "      <td>2024-10-07</td>\n",
       "      <td>Licuadora</td>\n",
       "      <td>Pequeños</td>\n",
       "      <td>Amazonía</td>\n",
       "      <td>Josue_B</td>\n",
       "      <td>3</td>\n",
       "      <td>698</td>\n",
       "      <td>2094</td>\n",
       "    </tr>\n",
       "    <tr>\n",
       "      <th>4</th>\n",
       "      <td>2024-07-18</td>\n",
       "      <td>Refrigeradora</td>\n",
       "      <td>Electrodomésticos</td>\n",
       "      <td>Sierra</td>\n",
       "      <td>Josue_E</td>\n",
       "      <td>3</td>\n",
       "      <td>723</td>\n",
       "      <td>2169</td>\n",
       "    </tr>\n",
       "  </tbody>\n",
       "</table>\n",
       "</div>"
      ],
      "text/plain": [
       "       Fecha            Producto          Categoría    Región  Cliente  \\\n",
       "0 2024-06-19  Aire Acondicionado  Electrodomésticos     Costa  Josue_I   \n",
       "1 2024-02-15       Refrigeradora  Electrodomésticos     Costa  Josue_I   \n",
       "2 2024-07-30  Aire Acondicionado  Electrodomésticos    Sierra  Josue_G   \n",
       "3 2024-10-07           Licuadora           Pequeños  Amazonía  Josue_B   \n",
       "4 2024-07-18       Refrigeradora  Electrodomésticos    Sierra  Josue_E   \n",
       "\n",
       "   Cantidad  Precio Unitario  Total Venta  \n",
       "0         3              746         2238  \n",
       "1         4              945         3780  \n",
       "2         1              202          202  \n",
       "3         3              698         2094  \n",
       "4         3              723         2169  "
      ]
     },
     "execution_count": 20,
     "metadata": {},
     "output_type": "execute_result"
    }
   ],
   "source": [
    "# Paso 1: Importar librerías\n",
    "import pandas as pd\n",
    "import numpy as np\n",
    "from datetime import datetime, timedelta\n",
    "import random\n",
    "# Paso 2: NUEVOS DATOS (CAMBIO REALIZADO AQUÍ)\n",
    "productos = ['Aire Acondicionado', 'Refrigeradora', 'Cocina', 'Licuadora']\n",
    "categorias = {\n",
    "    'Aire Acondicionado': 'Electrodomésticos',\n",
    "    'Refrigeradora': 'Electrodomésticos',\n",
    "    'Cocina': 'Electrodomésticos',\n",
    "    'Licuadora': 'Pequeños'\n",
    "}\n",
    "regiones = ['Costa', 'Sierra', 'Amazonía']\n",
    "clientes = [f'Josue_{c}' for c in 'ABCDEFGHIJ']  # 10 clientes A a J\n",
    "\n",
    "# Paso 3: Generar 300 registros de ventas (CAMBIO DE DATOS Y TAMAÑO)\n",
    "np.random.seed(42)\n",
    "fechas = [datetime(2024, 1, 1) + timedelta(days=random.randint(0, 364)) for _ in range(300)]\n",
    "productos_sample = [random.choice(productos) for _ in range(300)]\n",
    "categorias_sample = [categorias[p] for p in productos_sample]\n",
    "regiones_sample = [random.choice(regiones) for _ in range(300)]\n",
    "clientes_sample = [random.choice(clientes) for _ in range(300)]\n",
    "cantidades = np.random.randint(1, 5, size=300)  # Menores cantidades\n",
    "precios_unitarios = [random.randint(80, 1200) for _ in range(300)]\n",
    "total_venta = [c * p for c, p in zip(cantidades, precios_unitarios)]\n",
    "\n",
    "# Paso 4: Crear el DataFrame final\n",
    "df = pd.DataFrame({\n",
    "    'Fecha': fechas,\n",
    "    'Producto': productos_sample,\n",
    "    'Categoría': categorias_sample,\n",
    "    'Región': regiones_sample,\n",
    "    'Cliente': clientes_sample,\n",
    "    'Cantidad': cantidades,\n",
    "    'Precio Unitario': precios_unitarios,\n",
    "    'Total Venta': total_venta\n",
    "})\n",
    "\n",
    "df.head()\n",
    "\n"
   ]
  },
  {
   "cell_type": "code",
   "execution_count": 21,
   "id": "25ec94c6-e54a-44ff-9bba-f0e3dc9cce88",
   "metadata": {},
   "outputs": [
    {
     "name": "stdout",
     "output_type": "stream",
     "text": [
      "<class 'pandas.core.frame.DataFrame'>\n",
      "RangeIndex: 300 entries, 0 to 299\n",
      "Data columns (total 8 columns):\n",
      " #   Column           Non-Null Count  Dtype         \n",
      "---  ------           --------------  -----         \n",
      " 0   Fecha            300 non-null    datetime64[ns]\n",
      " 1   Producto         300 non-null    object        \n",
      " 2   Categoría        300 non-null    object        \n",
      " 3   Región           300 non-null    object        \n",
      " 4   Cliente          300 non-null    object        \n",
      " 5   Cantidad         300 non-null    int32         \n",
      " 6   Precio Unitario  300 non-null    int64         \n",
      " 7   Total Venta      300 non-null    int32         \n",
      "dtypes: datetime64[ns](1), int32(2), int64(1), object(4)\n",
      "memory usage: 16.5+ KB\n"
     ]
    },
    {
     "data": {
      "text/plain": [
       "Fecha              0\n",
       "Producto           0\n",
       "Categoría          0\n",
       "Región             0\n",
       "Cliente            0\n",
       "Cantidad           0\n",
       "Precio Unitario    0\n",
       "Total Venta        0\n",
       "dtype: int64"
      ]
     },
     "execution_count": 21,
     "metadata": {},
     "output_type": "execute_result"
    }
   ],
   "source": [
    "df.info()\n",
    "df.describe()\n",
    "df.isnull().sum()"
   ]
  },
  {
   "cell_type": "markdown",
   "id": "f6274391-5b43-4e3b-9e9c-8a3f82ef5cf0",
   "metadata": {},
   "source": [
    "PREGUNTAS A RESOLVER\n",
    "1. ¿Cuántas ventas se realizaron por región?"
   ]
  },
  {
   "cell_type": "code",
   "execution_count": 7,
   "id": "26b5930c-ad12-46cb-835a-e81780996ed9",
   "metadata": {},
   "outputs": [
    {
     "name": "stdout",
     "output_type": "stream",
     "text": [
      "Región\n",
      "Amazonía    119\n",
      "Costa        99\n",
      "Sierra       82\n",
      "Name: count, dtype: int64\n"
     ]
    }
   ],
   "source": [
    "print(df['Región'].value_counts())"
   ]
  },
  {
   "cell_type": "markdown",
   "id": "c8e3861f-337c-4c46-89fe-de1b30f5a3c3",
   "metadata": {},
   "source": [
    "2. ¿Cuál fue el ingreso total por categoría?\n"
   ]
  },
  {
   "cell_type": "code",
   "execution_count": 22,
   "id": "f06cb265-7ba3-4c0d-a637-a4ca11656455",
   "metadata": {},
   "outputs": [
    {
     "name": "stdout",
     "output_type": "stream",
     "text": [
      "Categoría\n",
      "Electrodomésticos    349251\n",
      "Pequeños             123038\n",
      "Name: Total Venta, dtype: int32\n"
     ]
    }
   ],
   "source": [
    "print(df.groupby('Categoría')['Total Venta'].sum())"
   ]
  },
  {
   "cell_type": "markdown",
   "id": "3a8d88d3-3162-4e77-bd0d-2c4dae3abbb9",
   "metadata": {},
   "source": [
    "3. ¿Qué cliente compró más veces?"
   ]
  },
  {
   "cell_type": "code",
   "execution_count": 9,
   "id": "f0b6f813-2e40-484d-86ea-4ed9ea371209",
   "metadata": {},
   "outputs": [
    {
     "name": "stdout",
     "output_type": "stream",
     "text": [
      "Cliente\n",
      "Cliente_J    42\n",
      "Name: count, dtype: int64\n"
     ]
    }
   ],
   "source": [
    "print(df['Cliente'].value_counts().head(1))"
   ]
  },
  {
   "cell_type": "code",
   "execution_count": 11,
   "id": "c560931c-850d-4787-8910-444692a9df13",
   "metadata": {},
   "outputs": [
    {
     "data": {
      "image/png": "[encoded data removed]",
      "text/plain": [
       "<Figure size 1000x600 with 1 Axes>"
      ]
     },
     "metadata": {},
     "output_type": "display_data"
    },
    {
     "data": {
      "image/png": "[encoded data removed]",
      "text/plain": [
       "<Figure size 1000x600 with 1 Axes>"
      ]
     },
     "metadata": {},
     "output_type": "display_data"
    },
    {
     "data": {
      "image/png": "[encoded data removed]",
      "text/plain": [
       "<Figure size 1000x600 with 2 Axes>"
      ]
     },
     "metadata": {},
     "output_type": "display_data"
    }
   ],
   "source": [
    "import matplotlib.pyplot as plt\n",
    "import seaborn as sns\n",
    "\n",
    "# Ventas por región\n",
    "df['Región'].value_counts().plot(kind='bar', title='Ventas por Región')\n",
    "plt.show()\n",
    "\n",
    "# Ingreso por categoría\n",
    "df.groupby('Categoría')['Total Venta'].sum().plot(kind='pie', autopct='%1.1f%%', title='Ingresos por Categoría')\n",
    "plt.ylabel('')\n",
    "plt.show()\n",
    "\n",
    "# Mapa de calor de correlación\n",
    "sns.heatmap(df[['Cantidad', 'Precio Unitario', 'Total Venta']].corr(), annot=True, cmap='coolwarm')\n",
    "plt.title('Correlación entre variables')\n",
    "plt.show()\n"
   ]
  },
  {
   "cell_type": "markdown",
   "id": "57513d51-d7af-47cb-a5a6-061d460987ab",
   "metadata": {},
   "source": [
    "Desafíos por Equipos\n",
    "\n",
    "Trabaja en grupo para resolver los siguientes desafíos:"
   ]
  },
  {
   "cell_type": "markdown",
   "id": "7c4a7288-98b3-4552-9260-fdaae81ec8b8",
   "metadata": {},
   "source": [
    "1. ¿Cuál es el producto más vendido por región?"
   ]
  },
  {
   "cell_type": "code",
   "execution_count": 17,
   "id": "d727eba7-02a7-4b68-a890-ba2964dc8f48",
   "metadata": {},
   "outputs": [
    {
     "name": "stdout",
     "output_type": "stream",
     "text": [
      "\n",
      "==================================================\n",
      "1. Producto más vendido por región:\n",
      "==================================================\n",
      "     Región            Producto  Cantidad_Total\n",
      "0     Costa              Cocina              86\n",
      "1  Amazonía              Cocina              80\n",
      "2    Sierra  Aire Acondicionado              71\n"
     ]
    }
   ],
   "source": [
    "print(\"\\n\" + \"=\"*50)\n",
    "print(\"1. Producto más vendido por región:\")\n",
    "print(\"=\"*50)\n",
    "\n",
    "# Agrupamos por región y producto, sumamos las cantidades\n",
    "producto_region = (\n",
    "    df.groupby(['Región', 'Producto'])\n",
    "    .agg(Cantidad_Total=('Cantidad', 'sum'))  # Sumamos las cantidades\n",
    "    .reset_index()  # Convertimos el índice en columnas\n",
    "    .sort_values('Cantidad_Total', ascending=False)  # Ordenamos de mayor a menor\n",
    ")\n",
    "\n",
    "# Encontramos el top por región\n",
    "top_por_region = producto_region.groupby('Región').head(1).reset_index(drop=True)\n",
    "print(top_por_region)"
   ]
  },
  {
   "cell_type": "markdown",
   "id": "5ccc5fd3-adb7-4f91-9a0d-90117f334f62",
   "metadata": {},
   "source": [
    "2. ¿Qué mes tuvo más ingresos?"
   ]
  },
  {
   "cell_type": "code",
   "execution_count": 14,
   "id": "303cd4fa-5c6e-491a-8e2e-2b1395daa8db",
   "metadata": {},
   "outputs": [
    {
     "name": "stdout",
     "output_type": "stream",
     "text": [
      "(np.int32(2024), np.int32(1))\n"
     ]
    }
   ],
   "source": [
    "df['Trimestre'] = df['Fecha'].dt.quarter\n",
    "df['Año'] = df['Fecha'].dt.year\n",
    "print(df.groupby(['Año', 'Trimestre'])['Total Venta'].sum().idxmax())"
   ]
  },
  {
   "cell_type": "code",
   "execution_count": 15,
   "id": "bb00fe93-c099-4cca-a4fe-6e06a61303cc",
   "metadata": {},
   "outputs": [
    {
     "name": "stdout",
     "output_type": "stream",
     "text": [
      "\n",
      "==================================================\n",
      "2. Mes con más ingresos:\n",
      "==================================================\n",
      "   Mes  Ingreso_Total\n",
      "0    8          52328\n",
      "\n",
      "Análisis detallado por mes y año:\n",
      "          Ingreso_Total\n",
      "Año  Mes               \n",
      "2024 8            52328\n",
      "     12           49522\n",
      "     3            49425\n"
     ]
    }
   ],
   "source": [
    "print(\"\\n\" + \"=\"*50)\n",
    "print(\"2. Mes con más ingresos:\")\n",
    "print(\"=\"*50)\n",
    "\n",
    "# Extraemos el mes de la fecha\n",
    "df['Mes'] = df['Fecha'].dt.month\n",
    "\n",
    "# Agrupamos por mes y sumamos los ingresos\n",
    "ingresos_mes = (\n",
    "    df.groupby('Mes')\n",
    "    .agg(Ingreso_Total=('Total Venta', 'sum'))\n",
    "    .sort_values('Ingreso_Total', ascending=False)\n",
    "    .reset_index()\n",
    ")\n",
    "\n",
    "# Mostramos el mes con más ingresos\n",
    "mes_top = ingresos_mes.head(1)\n",
    "print(mes_top)\n",
    "\n",
    "# Opcional: Si queremos considerar mes y año\n",
    "print(\"\\nAnálisis detallado por mes y año:\")\n",
    "df['Año'] = df['Fecha'].dt.year\n",
    "ingresos_mes_año = (\n",
    "    df.groupby(['Año', 'Mes'])\n",
    "    .agg(Ingreso_Total=('Total Venta', 'sum'))\n",
    "    .sort_values('Ingreso_Total', ascending=False)\n",
    "    .head(3)\n",
    ")\n",
    "print(ingresos_mes_año)"
   ]
  },
  {
   "cell_type": "markdown",
   "id": "64d9e93c-425d-459e-8cb5-06cf0ee68104",
   "metadata": {},
   "source": [
    "3. ¿Qué cliente generó más ingresos?"
   ]
  },
  {
   "cell_type": "code",
   "execution_count": 18,
   "id": "b62b1b14-a6e9-49b2-bda3-06dc00274287",
   "metadata": {},
   "outputs": [
    {
     "name": "stdout",
     "output_type": "stream",
     "text": [
      "\n",
      "==================================================\n",
      "3. Cliente que generó más ingresos:\n",
      "==================================================\n",
      "     Cliente  Ingreso_Total\n",
      "0  Cliente_J          65676\n",
      "\n",
      "Top 5 clientes:\n",
      "     Cliente  Ingreso_Total\n",
      "0  Cliente_J          65676\n",
      "1  Cliente_I          63883\n",
      "2  Cliente_E          56970\n",
      "3  Cliente_G          55349\n",
      "4  Cliente_D          54477\n"
     ]
    }
   ],
   "source": [
    "print(\"\\n\" + \"=\"*50)\n",
    "print(\"3. Cliente que generó más ingresos:\")\n",
    "print(\"=\"*50)\n",
    "\n",
    "# Agrupamos por cliente y sumamos los ingresos totales\n",
    "cliente_ingresos = (\n",
    "    df.groupby('Cliente')\n",
    "    .agg(Ingreso_Total=('Total Venta', 'sum'))\n",
    "    .sort_values('Ingreso_Total', ascending=False)\n",
    "    .reset_index()\n",
    ")\n",
    "\n",
    "# Mostramos el top 1\n",
    "top_cliente = cliente_ingresos.head(1)\n",
    "print(top_cliente)\n",
    "\n",
    "# Mostramos top 5 para contexto\n",
    "print(\"\\nTop 5 clientes:\")\n",
    "print(cliente_ingresos.head(5))"
   ]
  },
  {
   "cell_type": "markdown",
   "id": "8502699b-ecab-4223-aaa3-9a278c3a1cc8",
   "metadata": {},
   "source": [
    "Reto Final: Misterio de Datos\n",
    "\n",
    "Encuentra una anomalía o patrón interesante en los datos. Algunas ideas:\n",
    "\n",
    "- ¿Hay algún cliente que solo compra un producto?\n",
    "\n",
    "Sí, 3 clientes compran exclusivamente un solo tipo de producto:\n",
    "Cliente_A solo compra Aire Acondicionado\n",
    "Cliente_E solo compra Refrigeradora\n",
    "Cliente_G solo compra Cocina\n",
    "\n",
    "- ¿Algún producto tiene un precio unitario inusualmente alto?\n",
    "\n",
    "Refrigeradoras tienen los precios más altos ($1,200):\n",
    "3 refrigeradoras vendidas a $1,200 (precio máximo)\n",
    "Precio típico de refrigeradoras: $800-$1,000\n",
    "\n",
    "- ¿Hay días con ventas inusualmente altas?\n",
    "\n",
    "3 días destacados con ventas de $2,400 (casi el doble del promedio):\n",
    "6 de mayo 2024\n",
    "19 de julio 2024\n",
    "8 de noviembre 2024"
   ]
  },
  {
   "cell_type": "markdown",
   "id": "d8c00374-cec0-41f3-80e8-b2562b01c3f9",
   "metadata": {},
   "source": [
    "Cierre y Reflexión\n",
    "\n",
    "- ¿Qué aprendiste hoy?\n",
    "Hoy aprendí técnicas clave para analizar datos con Pandas, como manipular DataFrames, detectar patrones en ventas y clientes, e identificar productos con precios inusuales. También descubrí cómo analizar tendencias temporales, como días con ventas excepcionales, y cómo extraer información útil para tomar decisiones.\n",
    "\n",
    "- ¿Qué fue lo más desafiante?\n",
    "El mayor desafío fue diferenciar entre datos normales y anomalías significativas, así como interpretar correctamente los patrones regionales, como la preferencia por ciertos electrodomésticos en zonas específicas.\n",
    "\n",
    "- ¿Cómo aplicarías Pandas en tu trabajo o estudios?\n",
    "En un entorno laboral, aplicaría Pandas para automatizar reportes de ventas, optimizar inventarios y detectar oportunidades de crecimiento. En estudios, me serviría para analizar investigaciones, procesar encuestas y mejorar presentaciones con visualizaciones claras."
   ]
  },
  {
   "cell_type": "markdown",
   "id": "58bfbf9d-b79f-47dc-bf91-19199837ce87",
   "metadata": {},
   "source": [
    "Participantes: Josue Quituisaca\n",
    "               Edwin Averos"
   ]
  }
 ],
 "metadata": {
  "kernelspec": {
   "display_name": "Python [conda env:base] *",
   "language": "python",
   "name": "conda-base-py"
  },
  "language_info": {
   "codemirror_mode": {
    "name": "ipython",
    "version": 3
   },
   "file_extension": ".py",
   "mimetype": "text/x-python",
   "name": "python",
   "nbconvert_exporter": "python",
   "pygments_lexer": "ipython3",
   "version": "3.13.5"
  }
 },
 "nbformat": 4,
 "nbformat_minor": 5
}
